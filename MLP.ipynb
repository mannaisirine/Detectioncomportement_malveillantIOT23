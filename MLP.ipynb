{
 "cells": [
  {
   "cell_type": "code",
   "execution_count": 1,
   "id": "17217a32",
   "metadata": {},
   "outputs": [],
   "source": [
    "import pandas as pd\n",
    "from sklearn.model_selection import GridSearchCV\n",
    "from sklearn.metrics import classification_report, confusion_matrix\n",
    "from sklearn.model_selection import train_test_split\n",
    "import time\n",
    "import numpy as np\n",
    "import seaborn as sns\n",
    "import matplotlib.pyplot as plt\n",
    "from sklearn.neural_network import MLPClassifier\n",
    "from sklearn.preprocessing import StandardScaler\n",
    "import warnings"
   ]
  },
  {
   "cell_type": "code",
   "execution_count": 2,
   "id": "2970f788",
   "metadata": {},
   "outputs": [],
   "source": [
    "df = pd.read_csv('iot23_18column.csv')"
   ]
  },
  {
   "cell_type": "code",
   "execution_count": 3,
   "id": "7a6b55a5",
   "metadata": {},
   "outputs": [],
   "source": [
    "mlp = MLPClassifier(random_state=1)"
   ]
  },
  {
   "cell_type": "code",
   "execution_count": 4,
   "id": "8437ce6e",
   "metadata": {},
   "outputs": [],
   "source": [
    "df_cleaned = df.dropna(subset=['duration', 'orig_bytes', 'resp_bytes'])"
   ]
  },
  {
   "cell_type": "code",
   "execution_count": 5,
   "id": "b03be914",
   "metadata": {},
   "outputs": [],
   "source": [
    "X = df_cleaned[['ts', 'uid', 'id.orig_h', 'id.orig_p', 'id.resp_h', 'id.resp_p',\n",
    "       'proto', 'duration', 'orig_bytes', 'resp_bytes', 'conn_state',\n",
    "       'missed_bytes', 'history', 'orig_pkts', 'orig_ip_bytes', 'resp_pkts',\n",
    "       'resp_ip_bytes']]\n",
    "Y = df_cleaned['label']\n",
    "X_train, X_test, Y_train, Y_test = train_test_split(X, Y, random_state=10, test_size=0.2)"
   ]
  },
  {
   "cell_type": "code",
   "execution_count": 6,
   "id": "01d1b760",
   "metadata": {},
   "outputs": [
    {
     "name": "stdout",
     "output_type": "stream",
     "text": [
      "program start...\n",
      "\n",
      "prediction:\n",
      "[5 5 5 ... 5 5 5]\n",
      "\n"
     ]
    }
   ],
   "source": [
    "start = time.time()\n"
    "mlp.fit(X_train, Y_train)\n",
    "# SC.fit(X_train, Y_train)\n",
    "# print()\n",
    "\n",
    "print('prediction:')\n",
    "y_pred=mlp.predict(X_test)\n",
    "# y_pred = SC.predict(X_test)\n",
    "print(y_pred)\n",
    "print()"
   ]
  },
  {
   "cell_type": "code",
   "execution_count": 7,
   "id": "47e39c9e",
   "metadata": {},
   "outputs": [
    {
     "name": "stdout",
     "output_type": "stream",
     "text": [
      "Score:\n",
      "0.8121131985381889\n",
      "\n",
      "program end...\n",
      "\n",
      "time cost: \n",
      "366.0886056423187 seconds\n"
     ]
    }
   ],
   "source": [
    "print('Score:')\n",
    "score = mlp.score(X_test, Y_test)\n",
    "print(score)\n",
    "print()\n",
    "# score = SC.score(X_test,Y_test)\n",
    "# print(score)\n",
    "\n",
    "end = time.time()\n",
    
    "print()\n",
    "print('time cost: ')\n",
    "print(end - start, 'seconds')"
   ]
  },
  {
   "cell_type": "code",
   "execution_count": 8,
   "id": "0f6d38db",
   "metadata": {},
   "outputs": [],
   "source": [
    "warnings.filterwarnings('ignore')"
   ]
  },
  {
   "cell_type": "code",
   "execution_count": 9,
   "id": "aa052466",
   "metadata": {},
   "outputs": [
    {
     "name": "stdout",
     "output_type": "stream",
     "text": [
      "Classifiction Report :\n",
      "              precision    recall  f1-score   support\n",
      "\n",
      "           0       0.99      0.02      0.05     13498\n",
      "           1       0.00      0.00      0.00      1340\n",
      "           2       0.00      0.00      0.00        61\n",
      "           3       1.00      1.00      1.00      4964\n",
      "           4       0.00      0.00      0.00      5069\n",
      "           5       0.80      1.00      0.89     83170\n",
      "           6       0.00      0.00      0.00       804\n",
      "\n",
      "    accuracy                           0.81    108906\n",
      "   macro avg       0.40      0.29      0.28    108906\n",
      "weighted avg       0.78      0.81      0.73    108906\n",
      "\n"
     ]
    }
   ],
   "source": [
    "print(\"Classifiction Report :\")\n",
    "print(classification_report(Y_test, y_pred))"
   ]
  },
  {
   "cell_type": "markdown",
   "id": "c194045d",
   "metadata": {},
   "source": []
  }
 ],
 "metadata": {
  "kernelspec": {
   "display_name": "Python 3 (ipykernel)",
   "language": "python",
   "name": "python3"
  },
  "language_info": {
   "codemirror_mode": {
    "name": "ipython",
    "version": 3
   },
   "file_extension": ".py",
   "mimetype": "text/x-python",
   "name": "python",
   "nbconvert_exporter": "python",
   "pygments_lexer": "ipython3",
   "version": "3.11.5"
  }
 },
 "nbformat": 4,
 "nbformat_minor": 5
}
