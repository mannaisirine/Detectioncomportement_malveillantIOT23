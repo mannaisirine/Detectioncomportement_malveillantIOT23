{
 "cells": [
  {
   "cell_type": "code",
   "execution_count": 1,
   "id": "c9bcbb3b",
   "metadata": {},
   "outputs": [
    {
     "name": "stdout",
     "output_type": "stream",
     "text": [
      "Anomalies prédites:          Unnamed: 0      ts      uid  id.orig_h  id.orig_p  id.resp_h  \\\n",
      "0                 0       2   317928       1360    60905.0     127613   \n",
      "3                 3       6   961436       1360    34243.0     205149   \n",
      "8                 8      15   362440       1360    52259.0     455699   \n",
      "9                 9      17   639458       1360    42207.0       3275   \n",
      "11               11      20  1377586       1360    40459.0     622407   \n",
      "...             ...     ...      ...        ...        ...        ...   \n",
      "1444398       99767  390677  1108747       1362    29930.0     433605   \n",
      "1444400       99769  388623   764858       1362    29930.0     993050   \n",
      "1444401       99770  386568  1347417       1362    29930.0     398889   \n",
      "1444404       99773  388626  1414549       1362    29930.0     590843   \n",
      "1444405       99774  390678   221139       1362    29930.0    1083421   \n",
      "\n",
      "         id.resp_p  proto   duration  orig_bytes  resp_bytes  conn_state  \\\n",
      "0             23.0      1   2.998796         0.0         0.0           6   \n",
      "3          49560.0      1   2.998804         0.0         0.0           6   \n",
      "8             23.0      1   2.999300         0.0         0.0           6   \n",
      "9           8080.0      1   2.993548         0.0         0.0           6   \n",
      "11            23.0      1   2.998807         0.0         0.0           6   \n",
      "...            ...    ...        ...         ...         ...         ...   \n",
      "1444398    53226.0      2  16.002137       212.0         0.0           6   \n",
      "1444400     6881.0      2  32.008281       318.0         0.0           6   \n",
      "1444401    13953.0      2  47.719591       385.0         0.0           6   \n",
      "1444404    54133.0      2  32.008033       318.0         0.0           6   \n",
      "1444405    20492.0      2  16.001901       212.0         0.0           6   \n",
      "\n",
      "         missed_bytes  history  orig_pkts  orig_ip_bytes  resp_pkts  \\\n",
      "0                 0.0       16        3.0          180.0        0.0   \n",
      "3                 0.0       16        3.0          180.0        0.0   \n",
      "8                 0.0       16        3.0          180.0        0.0   \n",
      "9                 0.0       16        3.0          180.0        0.0   \n",
      "11                0.0       16        3.0          180.0        0.0   \n",
      "...               ...      ...        ...            ...        ...   \n",
      "1444398           0.0        4        2.0          268.0        0.0   \n",
      "1444400           0.0        4        3.0          402.0        0.0   \n",
      "1444401           0.0        4        4.0          497.0        0.0   \n",
      "1444404           0.0        4        3.0          402.0        0.0   \n",
      "1444405           0.0        4        2.0          268.0        0.0   \n",
      "\n",
      "         resp_ip_bytes  label  \n",
      "0                  0.0      5  \n",
      "3                  0.0      0  \n",
      "8                  0.0      5  \n",
      "9                  0.0      5  \n",
      "11                 0.0      5  \n",
      "...                ...    ...  \n",
      "1444398            0.0      0  \n",
      "1444400            0.0      0  \n",
      "1444401            0.0      0  \n",
      "1444404            0.0      0  \n",
      "1444405            0.0      0  \n",
      "\n",
      "[544530 rows x 19 columns]\n",
      "Nombre d'anomalies détectées: 544530\n"
     ]
    }
   ],
   "source": [
    "from sklearn.ensemble import IsolationForest\n",
    "from sklearn.preprocessing import StandardScaler\n",
    "import pandas as pd\n",
    "\n",
    "# Chargement des données\n",
    "data = pd.read_csv('iot23_18column.csv')\n",
    "data = data.dropna()\n",
    "\n",
    "# Séparation des instances bénignes du reste de l'ensemble de données\n",
    "benign_data = data[data['label'] == 0]  # Supposons que le label 0 représente les instances bénignes\n",
    "X_benign = benign_data.drop(columns=['label'])\n",
    "\n",
    "# Standardisation des caractéristiques\n",
    "scaler = StandardScaler()\n",
    "X_benign_scaled = scaler.fit_transform(X_benign)\n",
    "\n",
    "# Entraînement du modèle Isolation Forest sur les instances bénignes\n",
    "isolation_forest = IsolationForest(contamination='auto', random_state=42)  \n",
    "# Vous devez ajuster ces paramètres en fonction de vos données\n",
    "isolation_forest.fit(X_benign_scaled)\n",
    "\n",
    "# Application du modèle Isolation Forest à l'ensemble de données complet\n",
    "X_all = data.drop(columns=['label'])\n",
    "X_all_scaled = scaler.transform(X_all)\n",
    "anomaly_scores = isolation_forest.score_samples(X_all_scaled)\n",
    "\n",
    "# Extraction des instances prédites comme anomalies (scores négatifs)\n",
    "predicted_anomalies = data[anomaly_scores < 0]\n",
    "\n",
    "# Affichage des anomalies prédites\n",
    "print(\"Anomalies prédites:\", predicted_anomalies)\n",
    "print(\"Nombre d'anomalies détectées:\", len(predicted_anomalies))"
   ]
  },
  {
   "cell_type": "code",
   "execution_count": 2,
   "id": "df154894",
   "metadata": {},
   "outputs": [
    {
     "name": "stdout",
     "output_type": "stream",
     "text": [
      "Matrice de confusion :\n",
      " [[476734      0]\n",
      " [ 67796      0]]\n"
     ]
    },
    {
     "name": "stderr",
     "output_type": "stream",
     "text": [
      "C:\\Users\\amani\\anaconda3\\Lib\\site-packages\\sklearn\\metrics\\_classification.py:1469: UndefinedMetricWarning: Precision and F-score are ill-defined and being set to 0.0 in labels with no predicted samples. Use `zero_division` parameter to control this behavior.\n",
      "  _warn_prf(average, modifier, msg_start, len(result))\n"
     ]
    },
    {
     "name": "stdout",
     "output_type": "stream",
     "text": [
      "Rapport de classification :\n",
      "               precision    recall  f1-score   support\n",
      "\n",
      "    Anomalie       0.88      1.00      0.93    476734\n",
      "      Normal       0.00      0.00      0.00     67796\n",
      "\n",
      "    accuracy                           0.88    544530\n",
      "   macro avg       0.44      0.50      0.47    544530\n",
      "weighted avg       0.77      0.88      0.82    544530\n",
      "\n"
     ]
    },
    {
     "name": "stderr",
     "output_type": "stream",
     "text": [
      "C:\\Users\\amani\\anaconda3\\Lib\\site-packages\\sklearn\\metrics\\_classification.py:1469: UndefinedMetricWarning: Precision and F-score are ill-defined and being set to 0.0 in labels with no predicted samples. Use `zero_division` parameter to control this behavior.\n",
      "  _warn_prf(average, modifier, msg_start, len(result))\n",
      "C:\\Users\\amani\\anaconda3\\Lib\\site-packages\\sklearn\\metrics\\_classification.py:1469: UndefinedMetricWarning: Precision and F-score are ill-defined and being set to 0.0 in labels with no predicted samples. Use `zero_division` parameter to control this behavior.\n",
      "  _warn_prf(average, modifier, msg_start, len(result))\n"
     ]
    }
   ],
   "source": [
    "from sklearn.metrics import confusion_matrix, classification_report\n",
    "\n",
    "# Convertissons les scores d'anomalies en prédictions binaires (1 pour normal, -1 pour anomalie)\n",
    "predictions = [1 if score > 0 else -1 for score in anomaly_scores]\n",
    "\n",
    "# Convertissons les vraies étiquettes (0 pour normal, -1 pour anomalie)\n",
    "true_labels = [1 if label == 0 else -1 for label in data['label']]\n",
    "\n",
    "# Calcul de la matrice de confusion et du rapport de classification\n",
    "conf_matrix = confusion_matrix(true_labels, predictions)\n",
    "print(\"Matrice de confusion :\\n\", conf_matrix)\n",
    "\n",
    "# Calcul et affichage du rapport de classification\n",
    "report = classification_report(true_labels, predictions, target_names=['Anomalie', 'Normal'])\n",
    "print(\"Rapport de classification :\\n\", report)\n"
   ]
  },
  {
   "cell_type": "code",
   "execution_count": 5,
   "id": "a5d60731",
   "metadata": {},
   "outputs": [
    {
     "name": "stdout",
     "output_type": "stream",
     "text": [
      "              precision    recall  f1-score   support\n",
      "\n",
      "    Anomalie       0.96      0.99      0.98    476734\n",
      "      Normal       0.91      0.74      0.82     67796\n",
      "\n",
      "    accuracy                           0.96    544530\n",
      "   macro avg       0.94      0.87      0.90    544530\n",
      "weighted avg       0.96      0.96      0.96    544530\n",
      "\n"
     ]
    }
   ],
   "source": [
    "from sklearn.metrics import roc_auc_score, roc_curve\n",
    "import numpy as np\n",
    "\n",
    "# Calcul du score AUC\n",
    "false_positive_rate, true_positive_rate, thresholds = roc_curve(true_labels, anomaly_scores)\n",
    "auc_score = roc_auc_score(true_labels, anomaly_scores)\n",
    "\n",
    "# Trouver le seuil optimal\n",
    "optimal_idx = np.argmax(true_positive_rate - false_positive_rate)\n",
    "optimal_threshold = thresholds[optimal_idx]\n",
    "\n",
    "# Appliquer le seuil optimal pour classer les anomalies\n",
    "predictions_optimal = [1 if score > optimal_threshold else -1 for score in anomaly_scores]\n",
    "\n",
    "# Évaluation de la performance avec le nouveau seuil\n",
    "print(classification_report(true_labels, predictions_optimal,target_names=['Anomalie', 'Normal']))\n"
   ]
  },
  {
   "cell_type": "code",
   "execution_count": null,
   "id": "32f71c08",
   "metadata": {},
   "outputs": [],
   "source": []
  }
 ],
 "metadata": {
  "kernelspec": {
   "display_name": "Python 3 (ipykernel)",
   "language": "python",
   "name": "python3"
  },
  "language_info": {
   "codemirror_mode": {
    "name": "ipython",
    "version": 3
   },
   "file_extension": ".py",
   "mimetype": "text/x-python",
   "name": "python",
   "nbconvert_exporter": "python",
   "pygments_lexer": "ipython3",
   "version": "3.11.5"
  }
 },
 "nbformat": 4,
 "nbformat_minor": 5
}
