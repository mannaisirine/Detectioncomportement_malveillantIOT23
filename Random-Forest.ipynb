{
 "cells": [
  {
   "cell_type": "code",
   "execution_count": 11,
   "id": "2461feba",
   "metadata": {},
   "outputs": [],
   "source": [
    "import pandas as pd\n",
    "from matplotlib import pyplot as plt\n",
    "from sklearn.svm import SVC\n",
    "from sklearn.model_selection import GridSearchCV\n",
    "from sklearn.metrics import classification_report, confusion_matrix\n",
    "from sklearn.model_selection import train_test_split\n",
    "import time\n",
    "import numpy as np\n",
    "import seaborn as sns\n",
    "import matplotlib.pyplot as plt\n",
    "from sklearn.ensemble import RandomForestClassifier\n",
    "import warnings"
   ]
  },
  {
   "cell_type": "code",
   "execution_count": 12,
   "id": "aababed6",
   "metadata": {},
   "outputs": [],
   "source": [
    "df = pd.read_csv('iot23_18column.csv')"
   ]
  },
  {
   "cell_type": "code",
   "execution_count": 13,
   "id": "b5ac28ed",
   "metadata": {},
   "outputs": [],
   "source": [
    "clf=RandomForestClassifier(n_estimators =100, random_state=10)"
   ]
  },
  {
   "cell_type": "code",
   "execution_count": 14,
   "id": "1d8c97c2",
   "metadata": {},
   "outputs": [
    {
     "name": "stdout",
     "output_type": "stream",
     "text": [
      "<class 'pandas.core.frame.DataFrame'>\n",
      "RangeIndex: 1444630 entries, 0 to 1444629\n",
      "Data columns (total 19 columns):\n",
      " #   Column         Non-Null Count    Dtype  \n",
      "---  ------         --------------    -----  \n",
      " 0   Unnamed: 0     1444630 non-null  int64  \n",
      " 1   ts             1444630 non-null  int64  \n",
      " 2   uid            1444630 non-null  int64  \n",
      " 3   id.orig_h      1444630 non-null  int64  \n",
      " 4   id.orig_p      1444630 non-null  float64\n",
      " 5   id.resp_h      1444630 non-null  int64  \n",
      " 6   id.resp_p      1444630 non-null  float64\n",
      " 7   proto          1444630 non-null  int64  \n",
      " 8   duration       544530 non-null   float64\n",
      " 9   orig_bytes     544530 non-null   float64\n",
      " 10  resp_bytes     544530 non-null   float64\n",
      " 11  conn_state     1444630 non-null  int64  \n",
      " 12  missed_bytes   1444630 non-null  float64\n",
      " 13  history        1444630 non-null  int64  \n",
      " 14  orig_pkts      1444630 non-null  float64\n",
      " 15  orig_ip_bytes  1444630 non-null  float64\n",
      " 16  resp_pkts      1444630 non-null  float64\n",
      " 17  resp_ip_bytes  1444630 non-null  float64\n",
      " 18  label          1444630 non-null  int64  \n",
      "dtypes: float64(10), int64(9)\n",
      "memory usage: 209.4 MB\n"
     ]
    }
   ],
   "source": [
    "df.info()"
   ]
  },
  {
   "cell_type": "code",
   "execution_count": 15,
   "id": "a681750d",
   "metadata": {},
   "outputs": [],
   "source": [
    "df_cleaned = df.dropna(subset=['duration', 'orig_bytes', 'resp_bytes'])\n"
   ]
  },
  {
   "cell_type": "code",
   "execution_count": 16,
   "id": "50fee877",
   "metadata": {},
   "outputs": [
    {
     "name": "stdout",
     "output_type": "stream",
     "text": [
      "<class 'pandas.core.frame.DataFrame'>\n",
      "Index: 544530 entries, 0 to 1444405\n",
      "Data columns (total 19 columns):\n",
      " #   Column         Non-Null Count   Dtype  \n",
      "---  ------         --------------   -----  \n",
      " 0   Unnamed: 0     544530 non-null  int64  \n",
      " 1   ts             544530 non-null  int64  \n",
      " 2   uid            544530 non-null  int64  \n",
      " 3   id.orig_h      544530 non-null  int64  \n",
      " 4   id.orig_p      544530 non-null  float64\n",
      " 5   id.resp_h      544530 non-null  int64  \n",
      " 6   id.resp_p      544530 non-null  float64\n",
      " 7   proto          544530 non-null  int64  \n",
      " 8   duration       544530 non-null  float64\n",
      " 9   orig_bytes     544530 non-null  float64\n",
      " 10  resp_bytes     544530 non-null  float64\n",
      " 11  conn_state     544530 non-null  int64  \n",
      " 12  missed_bytes   544530 non-null  float64\n",
      " 13  history        544530 non-null  int64  \n",
      " 14  orig_pkts      544530 non-null  float64\n",
      " 15  orig_ip_bytes  544530 non-null  float64\n",
      " 16  resp_pkts      544530 non-null  float64\n",
      " 17  resp_ip_bytes  544530 non-null  float64\n",
      " 18  label          544530 non-null  int64  \n",
      "dtypes: float64(10), int64(9)\n",
      "memory usage: 83.1 MB\n"
     ]
    }
   ],
   "source": [
    "df_cleaned.info()"
   ]
  },
  {
   "cell_type": "code",
   "execution_count": 17,
   "id": "619dc213",
   "metadata": {},
   "outputs": [],
   "source": [
    "X = df_cleaned[['ts', 'uid', 'id.orig_h', 'id.orig_p', 'id.resp_h', 'id.resp_p',\n",
    "       'proto', 'duration', 'orig_bytes', 'resp_bytes', 'conn_state',\n",
    "       'missed_bytes', 'history', 'orig_pkts', 'orig_ip_bytes', 'resp_pkts',\n",
    "       'resp_ip_bytes']]\n",
    "Y = df_cleaned['label']\n",
    "X_train, X_test, Y_train, Y_test = train_test_split(X, Y, random_state=10, test_size=0.2)"
   ]
  },
  {
   "cell_type": "code",
   "execution_count": 18,
   "id": "eb08dce3",
   "metadata": {},
   "outputs": [],
   "source": [
    "clf=RandomForestClassifier(n_estimators =100, random_state=10)"
   ]
  },
  {
   "cell_type": "code",
   "execution_count": 19,
   "id": "0820438a",
   "metadata": {},
   "outputs": [
    {
     "name": "stdout",
     "output_type": "stream",
     "text": [
      "program start...\n",
      "\n",
      "\n",
      "prediction:\n",
      "[4 4 5 ... 5 0 0]\n",
      "\n",
      "Score:\n",
      "0.9997888086974088\n",
      "program end...\n",
      "\n",
      "time cost: \n",
      "332.4600751399994 seconds\n"
     ]
    }
   ],
   "source": [
    "start = time.time()\n",
    "print('program start...')\n",
    "print()\n",
    "\n",
    "clf.fit(X_train,Y_train)\n",
    "print()\n",
    "\n",
    "print('prediction:')\n",
    "y_pred=clf.predict(X_test)\n",
    "print(y_pred)\n",
    "print()\n",
    "\n",
    "print('Score:')\n",
    "score = clf.score(X_test,Y_test)\n",
    "print(score)\n",
    "\n",
    "end = time.time()\n",
    "print('program end...')\n",
    "print()\n",
    "print('time cost: ')\n",
    "print(end - start, 'seconds')"
   ]
  },
  {
   "cell_type": "code",
   "execution_count": 20,
   "id": "9e122779",
   "metadata": {},
   "outputs": [
    {
     "name": "stdout",
     "output_type": "stream",
     "text": [
      "Classifiction Report :\n",
      "              precision    recall  f1-score   support\n",
      "\n",
      "           0       1.00      1.00      1.00     13498\n",
      "           1       1.00      1.00      1.00      1340\n",
      "           2       0.98      1.00      0.99        61\n",
      "           3       1.00      1.00      1.00      4964\n",
      "           4       1.00      1.00      1.00      5069\n",
      "           5       1.00      1.00      1.00     83170\n",
      "           6       1.00      1.00      1.00       804\n",
      "\n",
      "    accuracy                           1.00    108906\n",
      "   macro avg       1.00      1.00      1.00    108906\n",
      "weighted avg       1.00      1.00      1.00    108906\n",
      "\n"
     ]
    }
   ],
   "source": [
    "print(\"Classifiction Report :\")\n",
    "print(classification_report(Y_test, y_pred))"
   ]
  },
  {
   "cell_type": "code",
   "execution_count": null,
   "id": "164792ea",
   "metadata": {},
   "outputs": [],
   "source": []
  }
 ],
 "metadata": {
  "kernelspec": {
   "display_name": "Python 3 (ipykernel)",
   "language": "python",
   "name": "python3"
  },
  "language_info": {
   "codemirror_mode": {
    "name": "ipython",
    "version": 3
   },
   "file_extension": ".py",
   "mimetype": "text/x-python",
   "name": "python",
   "nbconvert_exporter": "python",
   "pygments_lexer": "ipython3",
   "version": "3.11.5"
  }
 },
 "nbformat": 4,
 "nbformat_minor": 5
}
